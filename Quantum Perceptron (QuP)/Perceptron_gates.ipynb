{
 "cells": [
  {
   "cell_type": "code",
   "execution_count": null,
   "metadata": {},
   "outputs": [],
   "source": [
    "import numpy as np\n",
    "\n",
    "def NOT(x1):\n",
    "    x = np.array([x1])\n",
    "    b = np.array([0.5])\n",
    "    w = np.array([-1])\n",
    "    y = sum(w*x,b)\n",
    "    if y >= 0:\n",
    "        return 1\n",
    "    else:\n",
    "        return 0\n",
    "        \n"
   ]
  },
  {
   "cell_type": "code",
   "execution_count": 66,
   "metadata": {},
   "outputs": [
    {
     "name": "stdout",
     "output_type": "stream",
     "text": [
      "NOT\n",
      "0 -> 1\n",
      "1 -> 0\n"
     ]
    }
   ],
   "source": [
    "input = [0,1]\n",
    "print(\"NOT\")\n",
    "for x in input:\n",
    "        y = NOT(x)\n",
    "        print(str(x) + \" -> \" + str(y))"
   ]
  },
  {
   "cell_type": "code",
   "execution_count": 67,
   "metadata": {},
   "outputs": [],
   "source": [
    "import numpy as np\n",
    "\n",
    "def NOT(x1):\n",
    "    x = np.array([x1])\n",
    "    b = np.array([0.5])\n",
    "    w = np.array([-1])\n",
    "    y = sum(w*x,b)\n",
    "    if y >= 0:\n",
    "        return 1\n",
    "    else:\n",
    "        return 0\n",
    "        \n",
    "def AND(x1, x2):\n",
    "    x = np.array([1, x1, x2])\n",
    "    w = np.array([-1.5, 1, 1])\n",
    "    y = np.sum(w*x)\n",
    "    if y >= 0:\n",
    "        return 1\n",
    "    else:\n",
    "        return 0\n",
    "\n",
    "\n",
    "def OR(x1, x2):\n",
    "    x = np.array([1, x1, x2])\n",
    "    w = np.array([-0.5, 1, 1])\n",
    "    y = np.sum(w*x)\n",
    "    if y >= 0:\n",
    "        return 1\n",
    "    else:\n",
    "        return 0\n",
    "\n",
    "def XOR(x1, x2):\n",
    "    x_and = np.array([1, x1, x2])\n",
    "    w_and = np.array([1.5, -1, -1])\n",
    "    y_and = np.sum(w_and*x_and)\n",
    "\n",
    "    x_and = np.array([1, x1, x2])\n",
    "    w_and = np.array([1.5, -1, -1])\n",
    "    y_and = np.sum(w_and*x_and)\n",
    "\n",
    "\n",
    "    if y >=0:\n",
    "        return 1\n",
    "    else:\n",
    "        return 0\n"
   ]
  },
  {
   "cell_type": "code",
   "execution_count": 68,
   "metadata": {},
   "outputs": [
    {
     "name": "stdout",
     "output_type": "stream",
     "text": [
      "NOT\n",
      "0 -> 1\n",
      "1 -> 0\n",
      "AND\n",
      "(0, 0) -> 0\n",
      "(1, 0) -> 0\n",
      "(0, 1) -> 0\n",
      "(1, 1) -> 1\n",
      "OR\n",
      "(0, 0) -> 0\n",
      "(1, 0) -> 1\n",
      "(0, 1) -> 1\n",
      "(1, 1) -> 1\n"
     ]
    }
   ],
   "source": [
    "\n",
    "input = [0,1]\n",
    "\n",
    "print(\"NOT\")\n",
    "for x in input:\n",
    "        y = NOT(x)\n",
    "        print(str(x) + \" -> \" + str(y))\n",
    "\n",
    "\n",
    "input = [(0, 0), (1, 0), (0, 1), (1, 1)]\n",
    "\n",
    "print(\"AND\")\n",
    "for x in input:\n",
    "        y = AND(x[0], x[1])\n",
    "        print(str(x) + \" -> \" + str(y))\n",
    "\n",
    "print(\"OR\")\n",
    "for x in input:\n",
    "        y = OR(x[0], x[1])\n",
    "        print(str(x) + \" -> \" + str(y))\n",
    "\n"
   ]
  },
  {
   "cell_type": "code",
   "execution_count": null,
   "metadata": {},
   "outputs": [],
   "source": []
  }
 ],
 "metadata": {
  "interpreter": {
   "hash": "085cbf9557bbe354351d9f87f87626cdbde7d4ba20c27431a407ab84b8718ed5"
  },
  "kernelspec": {
   "display_name": "Python 3.7.0 64-bit ('tf-quantum': conda)",
   "language": "python",
   "name": "python3"
  },
  "language_info": {
   "codemirror_mode": {
    "name": "ipython",
    "version": 3
   },
   "file_extension": ".py",
   "mimetype": "text/x-python",
   "name": "python",
   "nbconvert_exporter": "python",
   "pygments_lexer": "ipython3",
   "version": "3.7.0"
  },
  "orig_nbformat": 4
 },
 "nbformat": 4,
 "nbformat_minor": 2
}
