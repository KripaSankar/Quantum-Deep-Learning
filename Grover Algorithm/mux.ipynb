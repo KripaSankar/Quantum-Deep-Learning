{
 "metadata": {
  "language_info": {
   "codemirror_mode": {
    "name": "ipython",
    "version": 3
   },
   "file_extension": ".py",
   "mimetype": "text/x-python",
   "name": "python",
   "nbconvert_exporter": "python",
   "pygments_lexer": "ipython3",
   "version": "3.7.1"
  },
  "orig_nbformat": 2,
  "kernelspec": {
   "name": "python3",
   "display_name": "Python 3.7.1 64-bit (conda)"
  },
  "interpreter": {
   "hash": "344443636c3027c5042750c9c609acdda283a9c43681b128a8c1053e7ad2aa7d"
  }
 },
 "nbformat": 4,
 "nbformat_minor": 2,
 "cells": [
  {
   "cell_type": "code",
   "execution_count": 1,
   "source": [
    "import cirq \n",
    "from cirq.circuits import *\n",
    "from typing import Tuple\n",
    "from qiskit import QuantumCircuit, execute, Aer, assemble\n",
    "import numpy as np\n",
    "from qiskit import *\n",
    "from qiskit.providers.aer import QasmSimulator\n",
    "from qiskit.visualization import plot_histogram\n",
    "from qiskit.quantum_info import Statevector\n",
    "%matplotlib inline\n",
    "import pandas\n",
    "from qiskit import QuantumCircuit, ClassicalRegister, QuantumRegister, execute\n",
    "\n",
    "\n",
    "#Use Aer's qasm_simulator\n",
    "simulator = QasmSimulator()"
   ],
   "outputs": [],
   "metadata": {}
  },
  {
   "cell_type": "code",
   "execution_count": 2,
   "source": [
    "### FUNCTIONS for COMPOSITE GATES\n",
    "\n",
    "qr = QuantumRegister(8, 'q')\n",
    "cr = ClassicalRegister(8, 'c')\n",
    "\n",
    "\n",
    "gc = QuantumCircuit(qr,cr)\n",
    "##INITIALIZE\n",
    "\n",
    "gc.h([0,1,2,3,4,5,6,7])\n",
    "\n",
    "\n",
    "gc.draw()"
   ],
   "outputs": [
    {
     "output_type": "execute_result",
     "data": {
      "text/plain": [
       "     ┌───┐\n",
       "q_0: ┤ H ├\n",
       "     ├───┤\n",
       "q_1: ┤ H ├\n",
       "     ├───┤\n",
       "q_2: ┤ H ├\n",
       "     ├───┤\n",
       "q_3: ┤ H ├\n",
       "     ├───┤\n",
       "q_4: ┤ H ├\n",
       "     ├───┤\n",
       "q_5: ┤ H ├\n",
       "     ├───┤\n",
       "q_6: ┤ H ├\n",
       "     ├───┤\n",
       "q_7: ┤ H ├\n",
       "     └───┘\n",
       "c: 8/═════\n",
       "          "
      ],
      "text/html": [
       "<pre style=\"word-wrap: normal;white-space: pre;background: #fff0;line-height: 1.1;font-family: &quot;Courier New&quot;,Courier,monospace\">     ┌───┐\n",
       "q_0: ┤ H ├\n",
       "     ├───┤\n",
       "q_1: ┤ H ├\n",
       "     ├───┤\n",
       "q_2: ┤ H ├\n",
       "     ├───┤\n",
       "q_3: ┤ H ├\n",
       "     ├───┤\n",
       "q_4: ┤ H ├\n",
       "     ├───┤\n",
       "q_5: ┤ H ├\n",
       "     ├───┤\n",
       "q_6: ┤ H ├\n",
       "     ├───┤\n",
       "q_7: ┤ H ├\n",
       "     └───┘\n",
       "c: 8/═════\n",
       "          </pre>"
      ]
     },
     "metadata": {},
     "execution_count": 2
    }
   ],
   "metadata": {}
  },
  {
   "cell_type": "code",
   "execution_count": null,
   "source": [
    "#MULTIPLEXER\n",
    "\n",
    "for x in range(0,2):\n",
    "    if (x==0):\n",
    "        gc.cx([0,1])\n",
    "    elif (x==1):\n",
    "        gc.cx([1,0])\n",
    "    elif (x==2):\n",
    "        gc.x([0])\n",
    "    else:\n",
    "        gc.x[1]    \n",
    "\n",
    "\n"
   ],
   "outputs": [],
   "metadata": {}
  }
 ]
}