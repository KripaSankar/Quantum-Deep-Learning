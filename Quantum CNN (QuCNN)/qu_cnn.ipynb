import tensorflow as tf
import tensorflow_quantum as tfq
